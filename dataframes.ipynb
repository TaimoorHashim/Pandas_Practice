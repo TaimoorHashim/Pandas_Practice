{
 "cells": [
  {
   "cell_type": "code",
   "execution_count": 13,
   "metadata": {},
   "outputs": [],
   "source": [
    "import numpy as np\n",
    "import pandas as pd"
   ]
  },
  {
   "cell_type": "markdown",
   "metadata": {},
   "source": [
    "Creating DataFrame"
   ]
  },
  {
   "cell_type": "code",
   "execution_count": 14,
   "metadata": {},
   "outputs": [
    {
     "data": {
      "text/html": [
       "<div>\n",
       "<style scoped>\n",
       "    .dataframe tbody tr th:only-of-type {\n",
       "        vertical-align: middle;\n",
       "    }\n",
       "\n",
       "    .dataframe tbody tr th {\n",
       "        vertical-align: top;\n",
       "    }\n",
       "\n",
       "    .dataframe thead th {\n",
       "        text-align: right;\n",
       "    }\n",
       "</style>\n",
       "<table border=\"1\" class=\"dataframe\">\n",
       "  <thead>\n",
       "    <tr style=\"text-align: right;\">\n",
       "      <th></th>\n",
       "      <th>IQ</th>\n",
       "      <th>Marks</th>\n",
       "      <th>Pkg</th>\n",
       "    </tr>\n",
       "  </thead>\n",
       "  <tbody>\n",
       "    <tr>\n",
       "      <th>0</th>\n",
       "      <td>120</td>\n",
       "      <td>80</td>\n",
       "      <td>15</td>\n",
       "    </tr>\n",
       "    <tr>\n",
       "      <th>1</th>\n",
       "      <td>100</td>\n",
       "      <td>60</td>\n",
       "      <td>10</td>\n",
       "    </tr>\n",
       "    <tr>\n",
       "      <th>2</th>\n",
       "      <td>80</td>\n",
       "      <td>40</td>\n",
       "      <td>5</td>\n",
       "    </tr>\n",
       "    <tr>\n",
       "      <th>3</th>\n",
       "      <td>60</td>\n",
       "      <td>40</td>\n",
       "      <td>4</td>\n",
       "    </tr>\n",
       "  </tbody>\n",
       "</table>\n",
       "</div>"
      ],
      "text/plain": [
       "    IQ  Marks  Pkg\n",
       "0  120     80   15\n",
       "1  100     60   10\n",
       "2   80     40    5\n",
       "3   60     40    4"
      ]
     },
     "execution_count": 14,
     "metadata": {},
     "output_type": "execute_result"
    }
   ],
   "source": [
    "#Using List\n",
    "student_data = [\n",
    "    [120,80,15],\n",
    "    [100,60,10],\n",
    "    [80,40,5],\n",
    "    [60,40,4]\n",
    "]\n",
    "pd.DataFrame(student_data,columns=['IQ','Marks','Pkg'])"
   ]
  },
  {
   "cell_type": "code",
   "execution_count": 15,
   "metadata": {},
   "outputs": [
    {
     "data": {
      "text/html": [
       "<div>\n",
       "<style scoped>\n",
       "    .dataframe tbody tr th:only-of-type {\n",
       "        vertical-align: middle;\n",
       "    }\n",
       "\n",
       "    .dataframe tbody tr th {\n",
       "        vertical-align: top;\n",
       "    }\n",
       "\n",
       "    .dataframe thead th {\n",
       "        text-align: right;\n",
       "    }\n",
       "</style>\n",
       "<table border=\"1\" class=\"dataframe\">\n",
       "  <thead>\n",
       "    <tr style=\"text-align: right;\">\n",
       "      <th></th>\n",
       "      <th>IQ</th>\n",
       "      <th>Marks</th>\n",
       "      <th>Pkg</th>\n",
       "    </tr>\n",
       "    <tr>\n",
       "      <th>name</th>\n",
       "      <th></th>\n",
       "      <th></th>\n",
       "      <th></th>\n",
       "    </tr>\n",
       "  </thead>\n",
       "  <tbody>\n",
       "    <tr>\n",
       "      <th>Taimoor</th>\n",
       "      <td>45</td>\n",
       "      <td>56</td>\n",
       "      <td>21</td>\n",
       "    </tr>\n",
       "    <tr>\n",
       "      <th>Bakhtawar</th>\n",
       "      <td>56</td>\n",
       "      <td>67</td>\n",
       "      <td>43</td>\n",
       "    </tr>\n",
       "    <tr>\n",
       "      <th>Amir</th>\n",
       "      <td>66</td>\n",
       "      <td>89</td>\n",
       "      <td>54</td>\n",
       "    </tr>\n",
       "    <tr>\n",
       "      <th>Shaheer</th>\n",
       "      <td>78</td>\n",
       "      <td>45</td>\n",
       "      <td>65</td>\n",
       "    </tr>\n",
       "    <tr>\n",
       "      <th>Noor</th>\n",
       "      <td>0</td>\n",
       "      <td>0</td>\n",
       "      <td>0</td>\n",
       "    </tr>\n",
       "    <tr>\n",
       "      <th>Abubakar</th>\n",
       "      <td>0</td>\n",
       "      <td>0</td>\n",
       "      <td>0</td>\n",
       "    </tr>\n",
       "  </tbody>\n",
       "</table>\n",
       "</div>"
      ],
      "text/plain": [
       "           IQ  Marks  Pkg\n",
       "name                     \n",
       "Taimoor    45     56   21\n",
       "Bakhtawar  56     67   43\n",
       "Amir       66     89   54\n",
       "Shaheer    78     45   65\n",
       "Noor        0      0    0\n",
       "Abubakar    0      0    0"
      ]
     },
     "execution_count": 15,
     "metadata": {},
     "output_type": "execute_result"
    }
   ],
   "source": [
    "#Using Dictionary\n",
    "student_dicts = {\n",
    "    'name':['Taimoor','Bakhtawar','Amir','Shaheer','Noor','Abubakar'],\n",
    "    'IQ':[45,56,66,78,0,0],\n",
    "    'Marks':[56,67,89,45,0,0],\n",
    "    'Pkg':[21,43,54,65,0,0],\n",
    "}\n",
    "\n",
    "students = pd.DataFrame(student_dicts)\n",
    "students.set_index('name',inplace=True)\n",
    "students"
   ]
  },
  {
   "cell_type": "code",
   "execution_count": 16,
   "metadata": {},
   "outputs": [
    {
     "ename": "NameError",
     "evalue": "name 'std1' is not defined",
     "output_type": "error",
     "traceback": [
      "\u001b[1;31m---------------------------------------------------------------------------\u001b[0m",
      "\u001b[1;31mNameError\u001b[0m                                 Traceback (most recent call last)",
      "Cell \u001b[1;32mIn[16], line 1\u001b[0m\n\u001b[1;32m----> 1\u001b[0m \u001b[38;5;28mprint\u001b[39m(\u001b[43mstd1\u001b[49m)\n\u001b[0;32m      2\u001b[0m \u001b[38;5;28mprint\u001b[39m(\u001b[38;5;124m\"\u001b[39m\u001b[38;5;124m......................End......................\u001b[39m\u001b[38;5;124m\"\u001b[39m)\n\u001b[0;32m      3\u001b[0m \u001b[38;5;28mprint\u001b[39m(student)\n",
      "\u001b[1;31mNameError\u001b[0m: name 'std1' is not defined"
     ]
    }
   ],
   "source": [
    "print(std1)\n",
    "print(\"......................End......................\")\n",
    "print(student)"
   ]
  },
  {
   "cell_type": "code",
   "execution_count": null,
   "metadata": {},
   "outputs": [
    {
     "ename": "NameError",
     "evalue": "name 'pd' is not defined",
     "output_type": "error",
     "traceback": [
      "\u001b[1;31m---------------------------------------------------------------------------\u001b[0m",
      "\u001b[1;31mNameError\u001b[0m                                 Traceback (most recent call last)",
      "Cell \u001b[1;32mIn[1], line 1\u001b[0m\n\u001b[1;32m----> 1\u001b[0m movies \u001b[38;5;241m=\u001b[39m \u001b[43mpd\u001b[49m\u001b[38;5;241m.\u001b[39mread_csv(\u001b[38;5;124m'\u001b[39m\u001b[38;5;124mE:/courses/Data science/Python-by-mam shradha/Pandas/datasets-session-17/movies.csv\u001b[39m\u001b[38;5;124m'\u001b[39m)\n\u001b[0;32m      2\u001b[0m ipl \u001b[38;5;241m=\u001b[39m pd\u001b[38;5;241m.\u001b[39mread_csv(\u001b[38;5;124m'\u001b[39m\u001b[38;5;124mE:/courses/Data science/Python-by-mam shradha/Pandas/datasets-session-17/ipl-matches.csv\u001b[39m\u001b[38;5;124m'\u001b[39m)\n\u001b[0;32m      3\u001b[0m ipl\n",
      "\u001b[1;31mNameError\u001b[0m: name 'pd' is not defined"
     ]
    }
   ],
   "source": [
    "movies = pd.read_csv('E:/courses/Data science/Python-by-mam shradha/Pandas/datasets-session-17/movies.csv')\n",
    "ipl = pd.read_csv('E:/courses/Data science/Python-by-mam shradha/Pandas/datasets-session-17/ipl-matches.csv')\n",
    "ipl\n",
    "movies"
   ]
  },
  {
   "cell_type": "markdown",
   "metadata": {},
   "source": [
    "Important Attributes Of Data Frame"
   ]
  },
  {
   "cell_type": "code",
   "execution_count": null,
   "metadata": {},
   "outputs": [
    {
     "name": "stdout",
     "output_type": "stream",
     "text": [
      "(950, 20)\n",
      "RangeIndex(start=0, stop=950, step=1)\n",
      "RangeIndex(start=0, stop=1629, step=1)\n",
      "<class 'pandas.core.frame.DataFrame'>\n",
      "RangeIndex: 950 entries, 0 to 949\n",
      "Data columns (total 20 columns):\n",
      " #   Column           Non-Null Count  Dtype  \n",
      "---  ------           --------------  -----  \n",
      " 0   ID               950 non-null    int64  \n",
      " 1   City             899 non-null    object \n",
      " 2   Date             950 non-null    object \n",
      " 3   Season           950 non-null    object \n",
      " 4   MatchNumber      950 non-null    object \n",
      " 5   Team1            950 non-null    object \n",
      " 6   Team2            950 non-null    object \n",
      " 7   Venue            950 non-null    object \n",
      " 8   TossWinner       950 non-null    object \n",
      " 9   TossDecision     950 non-null    object \n",
      " 10  SuperOver        946 non-null    object \n",
      " 11  WinningTeam      946 non-null    object \n",
      " 12  WonBy            950 non-null    object \n",
      " 13  Margin           932 non-null    float64\n",
      " 14  method           19 non-null     object \n",
      " 15  Player_of_Match  946 non-null    object \n",
      " 16  Team1Players     950 non-null    object \n",
      " 17  Team2Players     950 non-null    object \n",
      " 18  Umpire1          950 non-null    object \n",
      " 19  Umpire2          950 non-null    object \n",
      "dtypes: float64(1), int64(1), object(18)\n",
      "memory usage: 148.6+ KB\n"
     ]
    }
   ],
   "source": [
    "#shape\n",
    "print(ipl.shape)\n",
    "#dtypes\n",
    "(movies.dtypes)\n",
    "#index\n",
    "print(ipl.index)\n",
    "print(movies.index)\n",
    "#column\n",
    "(ipl.columns)\n",
    "#values\n",
    "ipl.values[2]\n",
    "#info\n",
    "ipl.info()"
   ]
  },
  {
   "cell_type": "code",
   "execution_count": null,
   "metadata": {},
   "outputs": [
    {
     "data": {
      "text/html": [
       "<div>\n",
       "<style scoped>\n",
       "    .dataframe tbody tr th:only-of-type {\n",
       "        vertical-align: middle;\n",
       "    }\n",
       "\n",
       "    .dataframe tbody tr th {\n",
       "        vertical-align: top;\n",
       "    }\n",
       "\n",
       "    .dataframe thead th {\n",
       "        text-align: right;\n",
       "    }\n",
       "</style>\n",
       "<table border=\"1\" class=\"dataframe\">\n",
       "  <thead>\n",
       "    <tr style=\"text-align: right;\">\n",
       "      <th></th>\n",
       "      <th>is_adult</th>\n",
       "      <th>year_of_release</th>\n",
       "      <th>imdb_rating</th>\n",
       "      <th>imdb_votes</th>\n",
       "    </tr>\n",
       "  </thead>\n",
       "  <tbody>\n",
       "    <tr>\n",
       "      <th>count</th>\n",
       "      <td>1629.0</td>\n",
       "      <td>1629.000000</td>\n",
       "      <td>1629.000000</td>\n",
       "      <td>1629.000000</td>\n",
       "    </tr>\n",
       "    <tr>\n",
       "      <th>mean</th>\n",
       "      <td>0.0</td>\n",
       "      <td>2010.263966</td>\n",
       "      <td>5.557459</td>\n",
       "      <td>5384.263352</td>\n",
       "    </tr>\n",
       "    <tr>\n",
       "      <th>std</th>\n",
       "      <td>0.0</td>\n",
       "      <td>5.381542</td>\n",
       "      <td>1.567609</td>\n",
       "      <td>14552.103231</td>\n",
       "    </tr>\n",
       "    <tr>\n",
       "      <th>min</th>\n",
       "      <td>0.0</td>\n",
       "      <td>2001.000000</td>\n",
       "      <td>0.000000</td>\n",
       "      <td>0.000000</td>\n",
       "    </tr>\n",
       "    <tr>\n",
       "      <th>25%</th>\n",
       "      <td>0.0</td>\n",
       "      <td>2005.000000</td>\n",
       "      <td>4.400000</td>\n",
       "      <td>233.000000</td>\n",
       "    </tr>\n",
       "    <tr>\n",
       "      <th>50%</th>\n",
       "      <td>0.0</td>\n",
       "      <td>2011.000000</td>\n",
       "      <td>5.600000</td>\n",
       "      <td>1000.000000</td>\n",
       "    </tr>\n",
       "    <tr>\n",
       "      <th>75%</th>\n",
       "      <td>0.0</td>\n",
       "      <td>2015.000000</td>\n",
       "      <td>6.800000</td>\n",
       "      <td>4287.000000</td>\n",
       "    </tr>\n",
       "    <tr>\n",
       "      <th>max</th>\n",
       "      <td>0.0</td>\n",
       "      <td>2019.000000</td>\n",
       "      <td>9.400000</td>\n",
       "      <td>310481.000000</td>\n",
       "    </tr>\n",
       "  </tbody>\n",
       "</table>\n",
       "</div>"
      ],
      "text/plain": [
       "       is_adult  year_of_release  imdb_rating     imdb_votes\n",
       "count    1629.0      1629.000000  1629.000000    1629.000000\n",
       "mean        0.0      2010.263966     5.557459    5384.263352\n",
       "std         0.0         5.381542     1.567609   14552.103231\n",
       "min         0.0      2001.000000     0.000000       0.000000\n",
       "25%         0.0      2005.000000     4.400000     233.000000\n",
       "50%         0.0      2011.000000     5.600000    1000.000000\n",
       "75%         0.0      2015.000000     6.800000    4287.000000\n",
       "max         0.0      2019.000000     9.400000  310481.000000"
      ]
     },
     "execution_count": 28,
     "metadata": {},
     "output_type": "execute_result"
    }
   ],
   "source": [
    "#Describe\n",
    "movies.describe()"
   ]
  },
  {
   "cell_type": "code",
   "execution_count": null,
   "metadata": {},
   "outputs": [
    {
     "data": {
      "text/plain": [
       "title_x                0\n",
       "imdb_id                0\n",
       "poster_path          103\n",
       "wiki_link              0\n",
       "title_y                0\n",
       "original_title         0\n",
       "is_adult               0\n",
       "year_of_release        0\n",
       "runtime                0\n",
       "genres                 0\n",
       "imdb_rating            0\n",
       "imdb_votes             0\n",
       "story                 20\n",
       "summary                0\n",
       "tagline             1072\n",
       "actors                 5\n",
       "wins_nominations     922\n",
       "release_date         107\n",
       "dtype: int64"
      ]
     },
     "execution_count": 29,
     "metadata": {},
     "output_type": "execute_result"
    }
   ],
   "source": [
    "#Isnull\n",
    "movies.isnull().sum()"
   ]
  },
  {
   "cell_type": "code",
   "execution_count": null,
   "metadata": {},
   "outputs": [
    {
     "data": {
      "text/html": [
       "<div>\n",
       "<style scoped>\n",
       "    .dataframe tbody tr th:only-of-type {\n",
       "        vertical-align: middle;\n",
       "    }\n",
       "\n",
       "    .dataframe tbody tr th {\n",
       "        vertical-align: top;\n",
       "    }\n",
       "\n",
       "    .dataframe thead th {\n",
       "        text-align: right;\n",
       "    }\n",
       "</style>\n",
       "<table border=\"1\" class=\"dataframe\">\n",
       "  <thead>\n",
       "    <tr style=\"text-align: right;\">\n",
       "      <th></th>\n",
       "      <th>IQ</th>\n",
       "      <th>Percnt</th>\n",
       "      <th>Lpa</th>\n",
       "      <th>Grade</th>\n",
       "    </tr>\n",
       "  </thead>\n",
       "  <tbody>\n",
       "    <tr>\n",
       "      <th>0</th>\n",
       "      <td>45</td>\n",
       "      <td>56</td>\n",
       "      <td>21</td>\n",
       "      <td>A+</td>\n",
       "    </tr>\n",
       "    <tr>\n",
       "      <th>1</th>\n",
       "      <td>56</td>\n",
       "      <td>67</td>\n",
       "      <td>43</td>\n",
       "      <td>A+</td>\n",
       "    </tr>\n",
       "    <tr>\n",
       "      <th>2</th>\n",
       "      <td>66</td>\n",
       "      <td>89</td>\n",
       "      <td>54</td>\n",
       "      <td>B</td>\n",
       "    </tr>\n",
       "    <tr>\n",
       "      <th>3</th>\n",
       "      <td>78</td>\n",
       "      <td>45</td>\n",
       "      <td>65</td>\n",
       "      <td>C-</td>\n",
       "    </tr>\n",
       "  </tbody>\n",
       "</table>\n",
       "</div>"
      ],
      "text/plain": [
       "   IQ  Percnt  Lpa Grade\n",
       "0  45      56   21    A+\n",
       "1  56      67   43    A+\n",
       "2  66      89   54     B\n",
       "3  78      45   65    C-"
      ]
     },
     "execution_count": 31,
     "metadata": {},
     "output_type": "execute_result"
    }
   ],
   "source": [
    "#Rename\n",
    "student\n",
    "student.rename(columns={'Marks':'Percnt','Pkg':'Lpa'})"
   ]
  },
  {
   "cell_type": "code",
   "execution_count": null,
   "metadata": {},
   "outputs": [
    {
     "name": "stdout",
     "output_type": "stream",
     "text": [
      "   IQ  Marks  Pkg Grade\n",
      "0  45     56   21    A+\n",
      "1  56     67   43    A+\n",
      "2  66     89   54     B\n",
      "3  78     45   65    C-\n",
      "4   0      0    0     0\n",
      "5   0      0    0     0\n"
     ]
    },
    {
     "data": {
      "text/plain": [
       "np.int64(1)"
      ]
     },
     "execution_count": 53,
     "metadata": {},
     "output_type": "execute_result"
    }
   ],
   "source": [
    "#Dublicated\n",
    "print(students)\n",
    "students.duplicated().sum()"
   ]
  },
  {
   "cell_type": "markdown",
   "metadata": {},
   "source": [
    "Selecting Col from Data Frame"
   ]
  },
  {
   "cell_type": "code",
   "execution_count": null,
   "metadata": {},
   "outputs": [
    {
     "data": {
      "text/plain": [
       "0                   Uri: The Surgical Strike\n",
       "1                              Battalion 609\n",
       "2       The Accidental Prime Minister (film)\n",
       "3                            Why Cheat India\n",
       "4                            Evening Shadows\n",
       "                        ...                 \n",
       "1624                   Tera Mera Saath Rahen\n",
       "1625                    Yeh Zindagi Ka Safar\n",
       "1626                         Sabse Bada Sukh\n",
       "1627                                   Daaka\n",
       "1628                                Humsafar\n",
       "Name: title_x, Length: 1629, dtype: object"
      ]
     },
     "execution_count": 19,
     "metadata": {},
     "output_type": "execute_result"
    }
   ],
   "source": [
    "#Single Colunm\n",
    "movies['title_x']"
   ]
  },
  {
   "cell_type": "code",
   "execution_count": null,
   "metadata": {},
   "outputs": [
    {
     "data": {
      "text/plain": [
       "0                Narendra Modi Stadium, Ahmedabad\n",
       "1                Narendra Modi Stadium, Ahmedabad\n",
       "2                           Eden Gardens, Kolkata\n",
       "3                           Eden Gardens, Kolkata\n",
       "4                        Wankhede Stadium, Mumbai\n",
       "                          ...                    \n",
       "945                                  Eden Gardens\n",
       "946                              Wankhede Stadium\n",
       "947                              Feroz Shah Kotla\n",
       "948    Punjab Cricket Association Stadium, Mohali\n",
       "949                         M Chinnaswamy Stadium\n",
       "Name: Venue, Length: 950, dtype: object"
      ]
     },
     "execution_count": 21,
     "metadata": {},
     "output_type": "execute_result"
    }
   ],
   "source": [
    "ipl['Venue']"
   ]
  },
  {
   "cell_type": "code",
   "execution_count": null,
   "metadata": {},
   "outputs": [
    {
     "data": {
      "text/html": [
       "<div>\n",
       "<style scoped>\n",
       "    .dataframe tbody tr th:only-of-type {\n",
       "        vertical-align: middle;\n",
       "    }\n",
       "\n",
       "    .dataframe tbody tr th {\n",
       "        vertical-align: top;\n",
       "    }\n",
       "\n",
       "    .dataframe thead th {\n",
       "        text-align: right;\n",
       "    }\n",
       "</style>\n",
       "<table border=\"1\" class=\"dataframe\">\n",
       "  <thead>\n",
       "    <tr style=\"text-align: right;\">\n",
       "      <th></th>\n",
       "      <th>title_x</th>\n",
       "      <th>actors</th>\n",
       "      <th>year_of_release</th>\n",
       "    </tr>\n",
       "  </thead>\n",
       "  <tbody>\n",
       "    <tr>\n",
       "      <th>0</th>\n",
       "      <td>Uri: The Surgical Strike</td>\n",
       "      <td>Vicky Kaushal|Paresh Rawal|Mohit Raina|Yami Ga...</td>\n",
       "      <td>2019</td>\n",
       "    </tr>\n",
       "    <tr>\n",
       "      <th>1</th>\n",
       "      <td>Battalion 609</td>\n",
       "      <td>Vicky Ahuja|Shoaib Ibrahim|Shrikant Kamat|Elen...</td>\n",
       "      <td>2019</td>\n",
       "    </tr>\n",
       "    <tr>\n",
       "      <th>2</th>\n",
       "      <td>The Accidental Prime Minister (film)</td>\n",
       "      <td>Anupam Kher|Akshaye Khanna|Aahana Kumra|Atul S...</td>\n",
       "      <td>2019</td>\n",
       "    </tr>\n",
       "    <tr>\n",
       "      <th>3</th>\n",
       "      <td>Why Cheat India</td>\n",
       "      <td>Emraan Hashmi|Shreya Dhanwanthary|Snighdadeep ...</td>\n",
       "      <td>2019</td>\n",
       "    </tr>\n",
       "    <tr>\n",
       "      <th>4</th>\n",
       "      <td>Evening Shadows</td>\n",
       "      <td>Mona Ambegaonkar|Ananth Narayan Mahadevan|Deva...</td>\n",
       "      <td>2018</td>\n",
       "    </tr>\n",
       "    <tr>\n",
       "      <th>...</th>\n",
       "      <td>...</td>\n",
       "      <td>...</td>\n",
       "      <td>...</td>\n",
       "    </tr>\n",
       "    <tr>\n",
       "      <th>1624</th>\n",
       "      <td>Tera Mera Saath Rahen</td>\n",
       "      <td>Ajay Devgn|Sonali Bendre|Namrata Shirodkar|Pre...</td>\n",
       "      <td>2001</td>\n",
       "    </tr>\n",
       "    <tr>\n",
       "      <th>1625</th>\n",
       "      <td>Yeh Zindagi Ka Safar</td>\n",
       "      <td>Ameesha Patel|Jimmy Sheirgill|Nafisa Ali|Gulsh...</td>\n",
       "      <td>2001</td>\n",
       "    </tr>\n",
       "    <tr>\n",
       "      <th>1626</th>\n",
       "      <td>Sabse Bada Sukh</td>\n",
       "      <td>Vijay Arora|Asrani|Rajni Bala|Kumud Damle|Utpa...</td>\n",
       "      <td>2018</td>\n",
       "    </tr>\n",
       "    <tr>\n",
       "      <th>1627</th>\n",
       "      <td>Daaka</td>\n",
       "      <td>Gippy Grewal|Zareen Khan|</td>\n",
       "      <td>2019</td>\n",
       "    </tr>\n",
       "    <tr>\n",
       "      <th>1628</th>\n",
       "      <td>Humsafar</td>\n",
       "      <td>Fawad Khan|</td>\n",
       "      <td>2011</td>\n",
       "    </tr>\n",
       "  </tbody>\n",
       "</table>\n",
       "<p>1629 rows × 3 columns</p>\n",
       "</div>"
      ],
      "text/plain": [
       "                                   title_x  \\\n",
       "0                 Uri: The Surgical Strike   \n",
       "1                            Battalion 609   \n",
       "2     The Accidental Prime Minister (film)   \n",
       "3                          Why Cheat India   \n",
       "4                          Evening Shadows   \n",
       "...                                    ...   \n",
       "1624                 Tera Mera Saath Rahen   \n",
       "1625                  Yeh Zindagi Ka Safar   \n",
       "1626                       Sabse Bada Sukh   \n",
       "1627                                 Daaka   \n",
       "1628                              Humsafar   \n",
       "\n",
       "                                                 actors  year_of_release  \n",
       "0     Vicky Kaushal|Paresh Rawal|Mohit Raina|Yami Ga...             2019  \n",
       "1     Vicky Ahuja|Shoaib Ibrahim|Shrikant Kamat|Elen...             2019  \n",
       "2     Anupam Kher|Akshaye Khanna|Aahana Kumra|Atul S...             2019  \n",
       "3     Emraan Hashmi|Shreya Dhanwanthary|Snighdadeep ...             2019  \n",
       "4     Mona Ambegaonkar|Ananth Narayan Mahadevan|Deva...             2018  \n",
       "...                                                 ...              ...  \n",
       "1624  Ajay Devgn|Sonali Bendre|Namrata Shirodkar|Pre...             2001  \n",
       "1625  Ameesha Patel|Jimmy Sheirgill|Nafisa Ali|Gulsh...             2001  \n",
       "1626  Vijay Arora|Asrani|Rajni Bala|Kumud Damle|Utpa...             2018  \n",
       "1627                          Gippy Grewal|Zareen Khan|             2019  \n",
       "1628                                        Fawad Khan|             2011  \n",
       "\n",
       "[1629 rows x 3 columns]"
      ]
     },
     "execution_count": 22,
     "metadata": {},
     "output_type": "execute_result"
    }
   ],
   "source": [
    "#Multiple Colunms\n",
    "movies[['title_x','actors','year_of_release']]"
   ]
  },
  {
   "cell_type": "code",
   "execution_count": null,
   "metadata": {},
   "outputs": [
    {
     "data": {
      "text/plain": [
       "IQ       45\n",
       "Marks    56\n",
       "Pkg      21\n",
       "Name: Taimoor, dtype: int64"
      ]
     },
     "execution_count": 34,
     "metadata": {},
     "output_type": "execute_result"
    }
   ],
   "source": [
    "students.iloc[0]"
   ]
  },
  {
   "cell_type": "code",
   "execution_count": null,
   "metadata": {},
   "outputs": [
    {
     "data": {
      "text/html": [
       "<div>\n",
       "<style scoped>\n",
       "    .dataframe tbody tr th:only-of-type {\n",
       "        vertical-align: middle;\n",
       "    }\n",
       "\n",
       "    .dataframe tbody tr th {\n",
       "        vertical-align: top;\n",
       "    }\n",
       "\n",
       "    .dataframe thead th {\n",
       "        text-align: right;\n",
       "    }\n",
       "</style>\n",
       "<table border=\"1\" class=\"dataframe\">\n",
       "  <thead>\n",
       "    <tr style=\"text-align: right;\">\n",
       "      <th></th>\n",
       "      <th>IQ</th>\n",
       "      <th>Marks</th>\n",
       "      <th>Pkg</th>\n",
       "    </tr>\n",
       "    <tr>\n",
       "      <th>name</th>\n",
       "      <th></th>\n",
       "      <th></th>\n",
       "      <th></th>\n",
       "    </tr>\n",
       "  </thead>\n",
       "  <tbody>\n",
       "    <tr>\n",
       "      <th>Taimoor</th>\n",
       "      <td>45</td>\n",
       "      <td>56</td>\n",
       "      <td>21</td>\n",
       "    </tr>\n",
       "    <tr>\n",
       "      <th>Amir</th>\n",
       "      <td>66</td>\n",
       "      <td>89</td>\n",
       "      <td>54</td>\n",
       "    </tr>\n",
       "    <tr>\n",
       "      <th>Shaheer</th>\n",
       "      <td>78</td>\n",
       "      <td>45</td>\n",
       "      <td>65</td>\n",
       "    </tr>\n",
       "  </tbody>\n",
       "</table>\n",
       "</div>"
      ],
      "text/plain": [
       "         IQ  Marks  Pkg\n",
       "name                   \n",
       "Taimoor  45     56   21\n",
       "Amir     66     89   54\n",
       "Shaheer  78     45   65"
      ]
     },
     "execution_count": 37,
     "metadata": {},
     "output_type": "execute_result"
    }
   ],
   "source": [
    "students.iloc[[0,2,3]]"
   ]
  },
  {
   "cell_type": "code",
   "execution_count": null,
   "metadata": {},
   "outputs": [
    {
     "data": {
      "text/html": [
       "<div>\n",
       "<style scoped>\n",
       "    .dataframe tbody tr th:only-of-type {\n",
       "        vertical-align: middle;\n",
       "    }\n",
       "\n",
       "    .dataframe tbody tr th {\n",
       "        vertical-align: top;\n",
       "    }\n",
       "\n",
       "    .dataframe thead th {\n",
       "        text-align: right;\n",
       "    }\n",
       "</style>\n",
       "<table border=\"1\" class=\"dataframe\">\n",
       "  <thead>\n",
       "    <tr style=\"text-align: right;\">\n",
       "      <th></th>\n",
       "      <th>IQ</th>\n",
       "      <th>Marks</th>\n",
       "      <th>Pkg</th>\n",
       "    </tr>\n",
       "    <tr>\n",
       "      <th>name</th>\n",
       "      <th></th>\n",
       "      <th></th>\n",
       "      <th></th>\n",
       "    </tr>\n",
       "  </thead>\n",
       "  <tbody>\n",
       "    <tr>\n",
       "      <th>Taimoor</th>\n",
       "      <td>45</td>\n",
       "      <td>56</td>\n",
       "      <td>21</td>\n",
       "    </tr>\n",
       "    <tr>\n",
       "      <th>Bakhtawar</th>\n",
       "      <td>56</td>\n",
       "      <td>67</td>\n",
       "      <td>43</td>\n",
       "    </tr>\n",
       "    <tr>\n",
       "      <th>Amir</th>\n",
       "      <td>66</td>\n",
       "      <td>89</td>\n",
       "      <td>54</td>\n",
       "    </tr>\n",
       "  </tbody>\n",
       "</table>\n",
       "</div>"
      ],
      "text/plain": [
       "           IQ  Marks  Pkg\n",
       "name                     \n",
       "Taimoor    45     56   21\n",
       "Bakhtawar  56     67   43\n",
       "Amir       66     89   54"
      ]
     },
     "execution_count": 41,
     "metadata": {},
     "output_type": "execute_result"
    }
   ],
   "source": [
    "students.iloc[:3]"
   ]
  },
  {
   "cell_type": "code",
   "execution_count": null,
   "metadata": {},
   "outputs": [
    {
     "data": {
      "text/html": [
       "<div>\n",
       "<style scoped>\n",
       "    .dataframe tbody tr th:only-of-type {\n",
       "        vertical-align: middle;\n",
       "    }\n",
       "\n",
       "    .dataframe tbody tr th {\n",
       "        vertical-align: top;\n",
       "    }\n",
       "\n",
       "    .dataframe thead th {\n",
       "        text-align: right;\n",
       "    }\n",
       "</style>\n",
       "<table border=\"1\" class=\"dataframe\">\n",
       "  <thead>\n",
       "    <tr style=\"text-align: right;\">\n",
       "      <th></th>\n",
       "      <th>IQ</th>\n",
       "      <th>Marks</th>\n",
       "      <th>Pkg</th>\n",
       "    </tr>\n",
       "    <tr>\n",
       "      <th>name</th>\n",
       "      <th></th>\n",
       "      <th></th>\n",
       "      <th></th>\n",
       "    </tr>\n",
       "  </thead>\n",
       "  <tbody>\n",
       "    <tr>\n",
       "      <th>Taimoor</th>\n",
       "      <td>45</td>\n",
       "      <td>56</td>\n",
       "      <td>21</td>\n",
       "    </tr>\n",
       "    <tr>\n",
       "      <th>Bakhtawar</th>\n",
       "      <td>56</td>\n",
       "      <td>67</td>\n",
       "      <td>43</td>\n",
       "    </tr>\n",
       "    <tr>\n",
       "      <th>Amir</th>\n",
       "      <td>66</td>\n",
       "      <td>89</td>\n",
       "      <td>54</td>\n",
       "    </tr>\n",
       "    <tr>\n",
       "      <th>Shaheer</th>\n",
       "      <td>78</td>\n",
       "      <td>45</td>\n",
       "      <td>65</td>\n",
       "    </tr>\n",
       "  </tbody>\n",
       "</table>\n",
       "</div>"
      ],
      "text/plain": [
       "           IQ  Marks  Pkg\n",
       "name                     \n",
       "Taimoor    45     56   21\n",
       "Bakhtawar  56     67   43\n",
       "Amir       66     89   54\n",
       "Shaheer    78     45   65"
      ]
     },
     "execution_count": 52,
     "metadata": {},
     "output_type": "execute_result"
    }
   ],
   "source": [
    "students.loc['Taimoor':'Shaheer']"
   ]
  },
  {
   "cell_type": "markdown",
   "metadata": {},
   "source": [
    "Selecting Row and Colunms Both\n"
   ]
  },
  {
   "cell_type": "code",
   "execution_count": null,
   "metadata": {},
   "outputs": [
    {
     "data": {
      "text/html": [
       "<div>\n",
       "<style scoped>\n",
       "    .dataframe tbody tr th:only-of-type {\n",
       "        vertical-align: middle;\n",
       "    }\n",
       "\n",
       "    .dataframe tbody tr th {\n",
       "        vertical-align: top;\n",
       "    }\n",
       "\n",
       "    .dataframe thead th {\n",
       "        text-align: right;\n",
       "    }\n",
       "</style>\n",
       "<table border=\"1\" class=\"dataframe\">\n",
       "  <thead>\n",
       "    <tr style=\"text-align: right;\">\n",
       "      <th></th>\n",
       "      <th>IQ</th>\n",
       "      <th>Marks</th>\n",
       "      <th>Pkg</th>\n",
       "    </tr>\n",
       "    <tr>\n",
       "      <th>name</th>\n",
       "      <th></th>\n",
       "      <th></th>\n",
       "      <th></th>\n",
       "    </tr>\n",
       "  </thead>\n",
       "  <tbody>\n",
       "    <tr>\n",
       "      <th>Taimoor</th>\n",
       "      <td>45</td>\n",
       "      <td>56</td>\n",
       "      <td>21</td>\n",
       "    </tr>\n",
       "    <tr>\n",
       "      <th>Bakhtawar</th>\n",
       "      <td>56</td>\n",
       "      <td>67</td>\n",
       "      <td>43</td>\n",
       "    </tr>\n",
       "    <tr>\n",
       "      <th>Amir</th>\n",
       "      <td>66</td>\n",
       "      <td>89</td>\n",
       "      <td>54</td>\n",
       "    </tr>\n",
       "  </tbody>\n",
       "</table>\n",
       "</div>"
      ],
      "text/plain": [
       "           IQ  Marks  Pkg\n",
       "name                     \n",
       "Taimoor    45     56   21\n",
       "Bakhtawar  56     67   43\n",
       "Amir       66     89   54"
      ]
     },
     "execution_count": 8,
     "metadata": {},
     "output_type": "execute_result"
    }
   ],
   "source": [
    "students.iloc[0:3,0:3]"
   ]
  },
  {
   "cell_type": "code",
   "execution_count": null,
   "metadata": {},
   "outputs": [
    {
     "data": {
      "text/html": [
       "<div>\n",
       "<style scoped>\n",
       "    .dataframe tbody tr th:only-of-type {\n",
       "        vertical-align: middle;\n",
       "    }\n",
       "\n",
       "    .dataframe tbody tr th {\n",
       "        vertical-align: top;\n",
       "    }\n",
       "\n",
       "    .dataframe thead th {\n",
       "        text-align: right;\n",
       "    }\n",
       "</style>\n",
       "<table border=\"1\" class=\"dataframe\">\n",
       "  <thead>\n",
       "    <tr style=\"text-align: right;\">\n",
       "      <th></th>\n",
       "      <th>Marks</th>\n",
       "    </tr>\n",
       "    <tr>\n",
       "      <th>name</th>\n",
       "      <th></th>\n",
       "    </tr>\n",
       "  </thead>\n",
       "  <tbody>\n",
       "    <tr>\n",
       "      <th>Taimoor</th>\n",
       "      <td>56</td>\n",
       "    </tr>\n",
       "    <tr>\n",
       "      <th>Shaheer</th>\n",
       "      <td>45</td>\n",
       "    </tr>\n",
       "  </tbody>\n",
       "</table>\n",
       "</div>"
      ],
      "text/plain": [
       "         Marks\n",
       "name          \n",
       "Taimoor     56\n",
       "Shaheer     45"
      ]
     },
     "execution_count": 18,
     "metadata": {},
     "output_type": "execute_result"
    }
   ],
   "source": [
    "students.loc[['Taimoor','Shaheer'],['Marks']]"
   ]
  },
  {
   "cell_type": "code",
   "execution_count": null,
   "metadata": {},
   "outputs": [
    {
     "data": {
      "text/html": [
       "<div>\n",
       "<style scoped>\n",
       "    .dataframe tbody tr th:only-of-type {\n",
       "        vertical-align: middle;\n",
       "    }\n",
       "\n",
       "    .dataframe tbody tr th {\n",
       "        vertical-align: top;\n",
       "    }\n",
       "\n",
       "    .dataframe thead th {\n",
       "        text-align: right;\n",
       "    }\n",
       "</style>\n",
       "<table border=\"1\" class=\"dataframe\">\n",
       "  <thead>\n",
       "    <tr style=\"text-align: right;\">\n",
       "      <th></th>\n",
       "      <th>Season</th>\n",
       "      <th>WinningTeam</th>\n",
       "    </tr>\n",
       "  </thead>\n",
       "  <tbody>\n",
       "    <tr>\n",
       "      <th>0</th>\n",
       "      <td>2022</td>\n",
       "      <td>Gujarat Titans</td>\n",
       "    </tr>\n",
       "    <tr>\n",
       "      <th>74</th>\n",
       "      <td>2021</td>\n",
       "      <td>Chennai Super Kings</td>\n",
       "    </tr>\n",
       "    <tr>\n",
       "      <th>134</th>\n",
       "      <td>2020/21</td>\n",
       "      <td>Mumbai Indians</td>\n",
       "    </tr>\n",
       "    <tr>\n",
       "      <th>194</th>\n",
       "      <td>2019</td>\n",
       "      <td>Mumbai Indians</td>\n",
       "    </tr>\n",
       "    <tr>\n",
       "      <th>254</th>\n",
       "      <td>2018</td>\n",
       "      <td>Chennai Super Kings</td>\n",
       "    </tr>\n",
       "    <tr>\n",
       "      <th>314</th>\n",
       "      <td>2017</td>\n",
       "      <td>Mumbai Indians</td>\n",
       "    </tr>\n",
       "    <tr>\n",
       "      <th>373</th>\n",
       "      <td>2016</td>\n",
       "      <td>Sunrisers Hyderabad</td>\n",
       "    </tr>\n",
       "    <tr>\n",
       "      <th>433</th>\n",
       "      <td>2015</td>\n",
       "      <td>Mumbai Indians</td>\n",
       "    </tr>\n",
       "    <tr>\n",
       "      <th>492</th>\n",
       "      <td>2014</td>\n",
       "      <td>Kolkata Knight Riders</td>\n",
       "    </tr>\n",
       "    <tr>\n",
       "      <th>552</th>\n",
       "      <td>2013</td>\n",
       "      <td>Mumbai Indians</td>\n",
       "    </tr>\n",
       "    <tr>\n",
       "      <th>628</th>\n",
       "      <td>2012</td>\n",
       "      <td>Kolkata Knight Riders</td>\n",
       "    </tr>\n",
       "    <tr>\n",
       "      <th>702</th>\n",
       "      <td>2011</td>\n",
       "      <td>Chennai Super Kings</td>\n",
       "    </tr>\n",
       "    <tr>\n",
       "      <th>775</th>\n",
       "      <td>2009/10</td>\n",
       "      <td>Chennai Super Kings</td>\n",
       "    </tr>\n",
       "    <tr>\n",
       "      <th>835</th>\n",
       "      <td>2009</td>\n",
       "      <td>Deccan Chargers</td>\n",
       "    </tr>\n",
       "    <tr>\n",
       "      <th>892</th>\n",
       "      <td>2007/08</td>\n",
       "      <td>Rajasthan Royals</td>\n",
       "    </tr>\n",
       "  </tbody>\n",
       "</table>\n",
       "</div>"
      ],
      "text/plain": [
       "      Season            WinningTeam\n",
       "0       2022         Gujarat Titans\n",
       "74      2021    Chennai Super Kings\n",
       "134  2020/21         Mumbai Indians\n",
       "194     2019         Mumbai Indians\n",
       "254     2018    Chennai Super Kings\n",
       "314     2017         Mumbai Indians\n",
       "373     2016    Sunrisers Hyderabad\n",
       "433     2015         Mumbai Indians\n",
       "492     2014  Kolkata Knight Riders\n",
       "552     2013         Mumbai Indians\n",
       "628     2012  Kolkata Knight Riders\n",
       "702     2011    Chennai Super Kings\n",
       "775  2009/10    Chennai Super Kings\n",
       "835     2009        Deccan Chargers\n",
       "892  2007/08       Rajasthan Royals"
      ]
     },
     "execution_count": 12,
     "metadata": {},
     "output_type": "execute_result"
    }
   ],
   "source": [
    "#Here we are filtring the season and winning teams of only final\n",
    "ipl[ipl['MatchNumber']=='Final'][['Season','WinningTeam']]"
   ]
  },
  {
   "cell_type": "code",
   "execution_count": null,
   "metadata": {},
   "outputs": [
    {
     "data": {
      "text/html": [
       "<div>\n",
       "<style scoped>\n",
       "    .dataframe tbody tr th:only-of-type {\n",
       "        vertical-align: middle;\n",
       "    }\n",
       "\n",
       "    .dataframe tbody tr th {\n",
       "        vertical-align: top;\n",
       "    }\n",
       "\n",
       "    .dataframe thead th {\n",
       "        text-align: right;\n",
       "    }\n",
       "</style>\n",
       "<table border=\"1\" class=\"dataframe\">\n",
       "  <thead>\n",
       "    <tr style=\"text-align: right;\">\n",
       "      <th></th>\n",
       "      <th>title_x</th>\n",
       "      <th>actors</th>\n",
       "    </tr>\n",
       "    <tr>\n",
       "      <th>year_of_release</th>\n",
       "      <th></th>\n",
       "      <th></th>\n",
       "    </tr>\n",
       "  </thead>\n",
       "  <tbody>\n",
       "    <tr>\n",
       "      <th>2019</th>\n",
       "      <td>Uri: The Surgical Strike</td>\n",
       "      <td>Vicky Kaushal|Paresh Rawal|Mohit Raina|Yami Ga...</td>\n",
       "    </tr>\n",
       "    <tr>\n",
       "      <th>2019</th>\n",
       "      <td>Battalion 609</td>\n",
       "      <td>Vicky Ahuja|Shoaib Ibrahim|Shrikant Kamat|Elen...</td>\n",
       "    </tr>\n",
       "    <tr>\n",
       "      <th>2019</th>\n",
       "      <td>The Accidental Prime Minister (film)</td>\n",
       "      <td>Anupam Kher|Akshaye Khanna|Aahana Kumra|Atul S...</td>\n",
       "    </tr>\n",
       "    <tr>\n",
       "      <th>2019</th>\n",
       "      <td>Why Cheat India</td>\n",
       "      <td>Emraan Hashmi|Shreya Dhanwanthary|Snighdadeep ...</td>\n",
       "    </tr>\n",
       "    <tr>\n",
       "      <th>2019</th>\n",
       "      <td>Fraud Saiyaan</td>\n",
       "      <td>Arshad Warsi|Saurabh Shukla|Flora Saini|Sara L...</td>\n",
       "    </tr>\n",
       "    <tr>\n",
       "      <th>...</th>\n",
       "      <td>...</td>\n",
       "      <td>...</td>\n",
       "    </tr>\n",
       "    <tr>\n",
       "      <th>2019</th>\n",
       "      <td>Commando 3 (film)</td>\n",
       "      <td>Vidyut Jammwal|Adah Sharma|Angira Dhar|Sumeet ...</td>\n",
       "    </tr>\n",
       "    <tr>\n",
       "      <th>2019</th>\n",
       "      <td>Mardaani 2</td>\n",
       "      <td>Rani Mukerji|Rajesh Sharma|Shruti Bapna|</td>\n",
       "    </tr>\n",
       "    <tr>\n",
       "      <th>2019</th>\n",
       "      <td>Dabangg 3</td>\n",
       "      <td>Salman Khan|Sonakshi Sinha|Sudeep|Mahesh Manjr...</td>\n",
       "    </tr>\n",
       "    <tr>\n",
       "      <th>2019</th>\n",
       "      <td>Good Newwz</td>\n",
       "      <td>Akshay Kumar|Kareena Kapoor|Kiara Advani|Tisca...</td>\n",
       "    </tr>\n",
       "    <tr>\n",
       "      <th>2019</th>\n",
       "      <td>Daaka</td>\n",
       "      <td>Gippy Grewal|Zareen Khan|</td>\n",
       "    </tr>\n",
       "  </tbody>\n",
       "</table>\n",
       "<p>75 rows × 2 columns</p>\n",
       "</div>"
      ],
      "text/plain": [
       "                                              title_x  \\\n",
       "year_of_release                                         \n",
       "2019                         Uri: The Surgical Strike   \n",
       "2019                                    Battalion 609   \n",
       "2019             The Accidental Prime Minister (film)   \n",
       "2019                                  Why Cheat India   \n",
       "2019                                    Fraud Saiyaan   \n",
       "...                                               ...   \n",
       "2019                                Commando 3 (film)   \n",
       "2019                                       Mardaani 2   \n",
       "2019                                        Dabangg 3   \n",
       "2019                                       Good Newwz   \n",
       "2019                                            Daaka   \n",
       "\n",
       "                                                            actors  \n",
       "year_of_release                                                     \n",
       "2019             Vicky Kaushal|Paresh Rawal|Mohit Raina|Yami Ga...  \n",
       "2019             Vicky Ahuja|Shoaib Ibrahim|Shrikant Kamat|Elen...  \n",
       "2019             Anupam Kher|Akshaye Khanna|Aahana Kumra|Atul S...  \n",
       "2019             Emraan Hashmi|Shreya Dhanwanthary|Snighdadeep ...  \n",
       "2019             Arshad Warsi|Saurabh Shukla|Flora Saini|Sara L...  \n",
       "...                                                            ...  \n",
       "2019             Vidyut Jammwal|Adah Sharma|Angira Dhar|Sumeet ...  \n",
       "2019                      Rani Mukerji|Rajesh Sharma|Shruti Bapna|  \n",
       "2019             Salman Khan|Sonakshi Sinha|Sudeep|Mahesh Manjr...  \n",
       "2019             Akshay Kumar|Kareena Kapoor|Kiara Advani|Tisca...  \n",
       "2019                                     Gippy Grewal|Zareen Khan|  \n",
       "\n",
       "[75 rows x 2 columns]"
      ]
     },
     "execution_count": 30,
     "metadata": {},
     "output_type": "execute_result"
    }
   ],
   "source": [
    "new_df=movies[movies['year_of_release']==2019][['year_of_release','title_x','actors']]\n",
    "new_df.set_index('year_of_release',inplace=True)\n",
    "new_df"
   ]
  },
  {
   "cell_type": "code",
   "execution_count": null,
   "metadata": {},
   "outputs": [
    {
     "data": {
      "text/html": [
       "<div>\n",
       "<style scoped>\n",
       "    .dataframe tbody tr th:only-of-type {\n",
       "        vertical-align: middle;\n",
       "    }\n",
       "\n",
       "    .dataframe tbody tr th {\n",
       "        vertical-align: top;\n",
       "    }\n",
       "\n",
       "    .dataframe thead th {\n",
       "        text-align: right;\n",
       "    }\n",
       "</style>\n",
       "<table border=\"1\" class=\"dataframe\">\n",
       "  <thead>\n",
       "    <tr style=\"text-align: right;\">\n",
       "      <th></th>\n",
       "      <th>WinningTeam</th>\n",
       "      <th>SuperOver</th>\n",
       "    </tr>\n",
       "    <tr>\n",
       "      <th>Season</th>\n",
       "      <th></th>\n",
       "      <th></th>\n",
       "    </tr>\n",
       "  </thead>\n",
       "  <tbody>\n",
       "    <tr>\n",
       "      <th>2021</th>\n",
       "      <td>Delhi Capitals</td>\n",
       "      <td>Y</td>\n",
       "    </tr>\n",
       "    <tr>\n",
       "      <th>2020/21</th>\n",
       "      <td>Kolkata Knight Riders</td>\n",
       "      <td>Y</td>\n",
       "    </tr>\n",
       "    <tr>\n",
       "      <th>2020/21</th>\n",
       "      <td>Kings XI Punjab</td>\n",
       "      <td>Y</td>\n",
       "    </tr>\n",
       "    <tr>\n",
       "      <th>2020/21</th>\n",
       "      <td>Royal Challengers Bangalore</td>\n",
       "      <td>Y</td>\n",
       "    </tr>\n",
       "    <tr>\n",
       "      <th>2020/21</th>\n",
       "      <td>Delhi Capitals</td>\n",
       "      <td>Y</td>\n",
       "    </tr>\n",
       "    <tr>\n",
       "      <th>2019</th>\n",
       "      <td>Mumbai Indians</td>\n",
       "      <td>Y</td>\n",
       "    </tr>\n",
       "    <tr>\n",
       "      <th>2019</th>\n",
       "      <td>Delhi Capitals</td>\n",
       "      <td>Y</td>\n",
       "    </tr>\n",
       "    <tr>\n",
       "      <th>2017</th>\n",
       "      <td>Mumbai Indians</td>\n",
       "      <td>Y</td>\n",
       "    </tr>\n",
       "    <tr>\n",
       "      <th>2015</th>\n",
       "      <td>Kings XI Punjab</td>\n",
       "      <td>Y</td>\n",
       "    </tr>\n",
       "    <tr>\n",
       "      <th>2014</th>\n",
       "      <td>Rajasthan Royals</td>\n",
       "      <td>Y</td>\n",
       "    </tr>\n",
       "    <tr>\n",
       "      <th>2013</th>\n",
       "      <td>Royal Challengers Bangalore</td>\n",
       "      <td>Y</td>\n",
       "    </tr>\n",
       "    <tr>\n",
       "      <th>2013</th>\n",
       "      <td>Sunrisers Hyderabad</td>\n",
       "      <td>Y</td>\n",
       "    </tr>\n",
       "    <tr>\n",
       "      <th>2009/10</th>\n",
       "      <td>Kings XI Punjab</td>\n",
       "      <td>Y</td>\n",
       "    </tr>\n",
       "    <tr>\n",
       "      <th>2009</th>\n",
       "      <td>Rajasthan Royals</td>\n",
       "      <td>Y</td>\n",
       "    </tr>\n",
       "  </tbody>\n",
       "</table>\n",
       "</div>"
      ],
      "text/plain": [
       "                         WinningTeam SuperOver\n",
       "Season                                        \n",
       "2021                  Delhi Capitals         Y\n",
       "2020/21        Kolkata Knight Riders         Y\n",
       "2020/21              Kings XI Punjab         Y\n",
       "2020/21  Royal Challengers Bangalore         Y\n",
       "2020/21               Delhi Capitals         Y\n",
       "2019                  Mumbai Indians         Y\n",
       "2019                  Delhi Capitals         Y\n",
       "2017                  Mumbai Indians         Y\n",
       "2015                 Kings XI Punjab         Y\n",
       "2014                Rajasthan Royals         Y\n",
       "2013     Royal Challengers Bangalore         Y\n",
       "2013             Sunrisers Hyderabad         Y\n",
       "2009/10              Kings XI Punjab         Y\n",
       "2009                Rajasthan Royals         Y"
      ]
     },
     "execution_count": 44,
     "metadata": {},
     "output_type": "execute_result"
    }
   ],
   "source": [
    "The= ipl[ipl['SuperOver']=='Y'][['Season','WinningTeam','SuperOver']]\n",
    "The.set_index('Season')"
   ]
  },
  {
   "cell_type": "code",
   "execution_count": null,
   "metadata": {},
   "outputs": [
    {
     "data": {
      "text/html": [
       "<div>\n",
       "<style scoped>\n",
       "    .dataframe tbody tr th:only-of-type {\n",
       "        vertical-align: middle;\n",
       "    }\n",
       "\n",
       "    .dataframe tbody tr th {\n",
       "        vertical-align: top;\n",
       "    }\n",
       "\n",
       "    .dataframe thead th {\n",
       "        text-align: right;\n",
       "    }\n",
       "</style>\n",
       "<table border=\"1\" class=\"dataframe\">\n",
       "  <thead>\n",
       "    <tr style=\"text-align: right;\">\n",
       "      <th></th>\n",
       "      <th>actors</th>\n",
       "      <th>genres</th>\n",
       "    </tr>\n",
       "    <tr>\n",
       "      <th>title_x</th>\n",
       "      <th></th>\n",
       "      <th></th>\n",
       "    </tr>\n",
       "  </thead>\n",
       "  <tbody>\n",
       "    <tr>\n",
       "      <th>Uri: The Surgical Strike</th>\n",
       "      <td>Vicky Kaushal|Paresh Rawal|Mohit Raina|Yami Ga...</td>\n",
       "      <td>Action|Drama|War</td>\n",
       "    </tr>\n",
       "    <tr>\n",
       "      <th>Battalion 609</th>\n",
       "      <td>Vicky Ahuja|Shoaib Ibrahim|Shrikant Kamat|Elen...</td>\n",
       "      <td>War</td>\n",
       "    </tr>\n",
       "    <tr>\n",
       "      <th>The Accidental Prime Minister (film)</th>\n",
       "      <td>Anupam Kher|Akshaye Khanna|Aahana Kumra|Atul S...</td>\n",
       "      <td>Biography|Drama</td>\n",
       "    </tr>\n",
       "    <tr>\n",
       "      <th>Why Cheat India</th>\n",
       "      <td>Emraan Hashmi|Shreya Dhanwanthary|Snighdadeep ...</td>\n",
       "      <td>Crime|Drama</td>\n",
       "    </tr>\n",
       "    <tr>\n",
       "      <th>Evening Shadows</th>\n",
       "      <td>Mona Ambegaonkar|Ananth Narayan Mahadevan|Deva...</td>\n",
       "      <td>Drama</td>\n",
       "    </tr>\n",
       "    <tr>\n",
       "      <th>...</th>\n",
       "      <td>...</td>\n",
       "      <td>...</td>\n",
       "    </tr>\n",
       "    <tr>\n",
       "      <th>Tera Mera Saath Rahen</th>\n",
       "      <td>Ajay Devgn|Sonali Bendre|Namrata Shirodkar|Pre...</td>\n",
       "      <td>Drama</td>\n",
       "    </tr>\n",
       "    <tr>\n",
       "      <th>Yeh Zindagi Ka Safar</th>\n",
       "      <td>Ameesha Patel|Jimmy Sheirgill|Nafisa Ali|Gulsh...</td>\n",
       "      <td>Drama</td>\n",
       "    </tr>\n",
       "    <tr>\n",
       "      <th>Sabse Bada Sukh</th>\n",
       "      <td>Vijay Arora|Asrani|Rajni Bala|Kumud Damle|Utpa...</td>\n",
       "      <td>Comedy|Drama</td>\n",
       "    </tr>\n",
       "    <tr>\n",
       "      <th>Daaka</th>\n",
       "      <td>Gippy Grewal|Zareen Khan|</td>\n",
       "      <td>Action</td>\n",
       "    </tr>\n",
       "    <tr>\n",
       "      <th>Humsafar</th>\n",
       "      <td>Fawad Khan|</td>\n",
       "      <td>Drama|Romance</td>\n",
       "    </tr>\n",
       "  </tbody>\n",
       "</table>\n",
       "<p>1629 rows × 2 columns</p>\n",
       "</div>"
      ],
      "text/plain": [
       "                                                                                 actors  \\\n",
       "title_x                                                                                   \n",
       "Uri: The Surgical Strike              Vicky Kaushal|Paresh Rawal|Mohit Raina|Yami Ga...   \n",
       "Battalion 609                         Vicky Ahuja|Shoaib Ibrahim|Shrikant Kamat|Elen...   \n",
       "The Accidental Prime Minister (film)  Anupam Kher|Akshaye Khanna|Aahana Kumra|Atul S...   \n",
       "Why Cheat India                       Emraan Hashmi|Shreya Dhanwanthary|Snighdadeep ...   \n",
       "Evening Shadows                       Mona Ambegaonkar|Ananth Narayan Mahadevan|Deva...   \n",
       "...                                                                                 ...   \n",
       "Tera Mera Saath Rahen                 Ajay Devgn|Sonali Bendre|Namrata Shirodkar|Pre...   \n",
       "Yeh Zindagi Ka Safar                  Ameesha Patel|Jimmy Sheirgill|Nafisa Ali|Gulsh...   \n",
       "Sabse Bada Sukh                       Vijay Arora|Asrani|Rajni Bala|Kumud Damle|Utpa...   \n",
       "Daaka                                                         Gippy Grewal|Zareen Khan|   \n",
       "Humsafar                                                                    Fawad Khan|   \n",
       "\n",
       "                                                genres  \n",
       "title_x                                                 \n",
       "Uri: The Surgical Strike              Action|Drama|War  \n",
       "Battalion 609                                      War  \n",
       "The Accidental Prime Minister (film)   Biography|Drama  \n",
       "Why Cheat India                            Crime|Drama  \n",
       "Evening Shadows                                  Drama  \n",
       "...                                                ...  \n",
       "Tera Mera Saath Rahen                            Drama  \n",
       "Yeh Zindagi Ka Safar                             Drama  \n",
       "Sabse Bada Sukh                           Comedy|Drama  \n",
       "Daaka                                           Action  \n",
       "Humsafar                                 Drama|Romance  \n",
       "\n",
       "[1629 rows x 2 columns]"
      ]
     },
     "execution_count": 69,
     "metadata": {},
     "output_type": "execute_result"
    }
   ],
   "source": [
    "movies[['title_x','actors','genres']].set_index('title_x')\n"
   ]
  },
  {
   "cell_type": "markdown",
   "metadata": {},
   "source": [
    "If You Want Results in Alphabatic Form Just remove Shape[0]"
   ]
  },
  {
   "cell_type": "code",
   "execution_count": null,
   "metadata": {},
   "outputs": [
    {
     "data": {
      "text/plain": [
       "15"
      ]
     },
     "execution_count": 56,
     "metadata": {},
     "output_type": "execute_result"
    }
   ],
   "source": [
    "#Find the winnerteam of only Final Matches\n",
    "ipl[ipl['MatchNumber']=='Final'].shape[0]"
   ]
  },
  {
   "cell_type": "code",
   "execution_count": null,
   "metadata": {},
   "outputs": [
    {
     "data": {
      "text/plain": [
       "14"
      ]
     },
     "execution_count": 16,
     "metadata": {},
     "output_type": "execute_result"
    }
   ],
   "source": [
    "#How many Super Overs are occured\n",
    "ipl[ipl['SuperOver']=='Y'].shape[0]"
   ]
  },
  {
   "cell_type": "code",
   "execution_count": null,
   "metadata": {},
   "outputs": [
    {
     "data": {
      "text/plain": [
       "5"
      ]
     },
     "execution_count": 21,
     "metadata": {},
     "output_type": "execute_result"
    }
   ],
   "source": [
    "#How many matches csk has won in kolkata\n",
    "ipl[(ipl['City']=='Kolkata')&(ipl['WinningTeam']=='Chennai Super Kings')].shape[0]"
   ]
  },
  {
   "cell_type": "code",
   "execution_count": null,
   "metadata": {},
   "outputs": [
    {
     "data": {
      "text/plain": [
       "51.473684210526315"
      ]
     },
     "execution_count": 28,
     "metadata": {},
     "output_type": "execute_result"
    }
   ],
   "source": [
    "#Toss winner is match winner percentage\n",
    "(ipl[ipl['TossWinner'] == ipl['WinningTeam']].shape[0]/ipl.shape[0])*100"
   ]
  },
  {
   "cell_type": "code",
   "execution_count": null,
   "metadata": {},
   "outputs": [
    {
     "data": {
      "text/plain": [
       "43"
      ]
     },
     "execution_count": 41,
     "metadata": {},
     "output_type": "execute_result"
    }
   ],
   "source": [
    "#Movies rating highr than 8 and votes greater than 10000\n",
    "movies[(movies['imdb_rating']>8) & (movies['imdb_votes']>10000)].shape[0]"
   ]
  },
  {
   "cell_type": "code",
   "execution_count": null,
   "metadata": {},
   "outputs": [
    {
     "data": {
      "text/plain": [
       "33"
      ]
     },
     "execution_count": 55,
     "metadata": {},
     "output_type": "execute_result"
    }
   ],
   "source": [
    "#Action movies rating higher than 7.5\n",
    "mask1=movies['genres'].str.split('|').apply(lambda x:'Action' in x)\n",
    "mask2=movies['imdb_rating']>7.5\n",
    "movies[mask1 & mask2][['title_x','genres']].shape[0]"
   ]
  },
  {
   "cell_type": "code",
   "execution_count": null,
   "metadata": {},
   "outputs": [
    {
     "name": "stdout",
     "output_type": "stream",
     "text": [
      "Chennai Super Kings :  121\n",
      "Punjab Kings :  13\n"
     ]
    }
   ],
   "source": [
    "#Number of Winnings of each Team\n",
    "ipl1 = ipl['WinningTeam']=='Chennai Super Kings'\n",
    "ipl2 = ipl['WinningTeam']=='Punjab Kings'\n",
    "print(\"Chennai Super Kings : \",ipl[ipl1].shape[0])\n",
    "print(\"Punjab Kings : \",ipl[ipl2].shape[0])"
   ]
  },
  {
   "cell_type": "markdown",
   "metadata": {},
   "source": [
    "Adding New Columns\n"
   ]
  },
  {
   "cell_type": "code",
   "execution_count": null,
   "metadata": {},
   "outputs": [
    {
     "data": {
      "text/html": [
       "<div>\n",
       "<style scoped>\n",
       "    .dataframe tbody tr th:only-of-type {\n",
       "        vertical-align: middle;\n",
       "    }\n",
       "\n",
       "    .dataframe tbody tr th {\n",
       "        vertical-align: top;\n",
       "    }\n",
       "\n",
       "    .dataframe thead th {\n",
       "        text-align: right;\n",
       "    }\n",
       "</style>\n",
       "<table border=\"1\" class=\"dataframe\">\n",
       "  <thead>\n",
       "    <tr style=\"text-align: right;\">\n",
       "      <th></th>\n",
       "      <th>IQ</th>\n",
       "      <th>Marks</th>\n",
       "      <th>Pkg</th>\n",
       "      <th>Grade</th>\n",
       "    </tr>\n",
       "    <tr>\n",
       "      <th>name</th>\n",
       "      <th></th>\n",
       "      <th></th>\n",
       "      <th></th>\n",
       "      <th></th>\n",
       "    </tr>\n",
       "  </thead>\n",
       "  <tbody>\n",
       "    <tr>\n",
       "      <th>Taimoor</th>\n",
       "      <td>45</td>\n",
       "      <td>56</td>\n",
       "      <td>21</td>\n",
       "      <td>A+</td>\n",
       "    </tr>\n",
       "    <tr>\n",
       "      <th>Bakhtawar</th>\n",
       "      <td>56</td>\n",
       "      <td>67</td>\n",
       "      <td>43</td>\n",
       "      <td>A+</td>\n",
       "    </tr>\n",
       "    <tr>\n",
       "      <th>Amir</th>\n",
       "      <td>66</td>\n",
       "      <td>89</td>\n",
       "      <td>54</td>\n",
       "      <td>A+</td>\n",
       "    </tr>\n",
       "    <tr>\n",
       "      <th>Shaheer</th>\n",
       "      <td>78</td>\n",
       "      <td>45</td>\n",
       "      <td>65</td>\n",
       "      <td>A+</td>\n",
       "    </tr>\n",
       "    <tr>\n",
       "      <th>Noor</th>\n",
       "      <td>0</td>\n",
       "      <td>0</td>\n",
       "      <td>0</td>\n",
       "      <td>A+</td>\n",
       "    </tr>\n",
       "    <tr>\n",
       "      <th>Abubakar</th>\n",
       "      <td>0</td>\n",
       "      <td>0</td>\n",
       "      <td>0</td>\n",
       "      <td>A+</td>\n",
       "    </tr>\n",
       "  </tbody>\n",
       "</table>\n",
       "</div>"
      ],
      "text/plain": [
       "           IQ  Marks  Pkg Grade\n",
       "name                           \n",
       "Taimoor    45     56   21    A+\n",
       "Bakhtawar  56     67   43    A+\n",
       "Amir       66     89   54    A+\n",
       "Shaheer    78     45   65    A+\n",
       "Noor        0      0    0    A+\n",
       "Abubakar    0      0    0    A+"
      ]
     },
     "execution_count": 79,
     "metadata": {},
     "output_type": "execute_result"
    }
   ],
   "source": [
    "students['Grade'] = 'A+'\n",
    "students"
   ]
  },
  {
   "cell_type": "code",
   "execution_count": null,
   "metadata": {},
   "outputs": [],
   "source": [
    "movies.dropna(inplace=True)"
   ]
  },
  {
   "cell_type": "code",
   "execution_count": null,
   "metadata": {},
   "outputs": [
    {
     "data": {
      "text/html": [
       "<div>\n",
       "<style scoped>\n",
       "    .dataframe tbody tr th:only-of-type {\n",
       "        vertical-align: middle;\n",
       "    }\n",
       "\n",
       "    .dataframe tbody tr th {\n",
       "        vertical-align: top;\n",
       "    }\n",
       "\n",
       "    .dataframe thead th {\n",
       "        text-align: right;\n",
       "    }\n",
       "</style>\n",
       "<table border=\"1\" class=\"dataframe\">\n",
       "  <thead>\n",
       "    <tr style=\"text-align: right;\">\n",
       "      <th></th>\n",
       "      <th>title_x</th>\n",
       "      <th>imdb_id</th>\n",
       "      <th>poster_path</th>\n",
       "      <th>wiki_link</th>\n",
       "      <th>title_y</th>\n",
       "      <th>original_title</th>\n",
       "      <th>is_adult</th>\n",
       "      <th>year_of_release</th>\n",
       "      <th>runtime</th>\n",
       "      <th>genres</th>\n",
       "      <th>imdb_rating</th>\n",
       "      <th>imdb_votes</th>\n",
       "      <th>story</th>\n",
       "      <th>summary</th>\n",
       "      <th>tagline</th>\n",
       "      <th>actors</th>\n",
       "      <th>wins_nominations</th>\n",
       "      <th>release_date</th>\n",
       "      <th>LeadActors</th>\n",
       "    </tr>\n",
       "  </thead>\n",
       "  <tbody>\n",
       "    <tr>\n",
       "      <th>733</th>\n",
       "      <td>Housefull 2</td>\n",
       "      <td>tt1980986</td>\n",
       "      <td>https://upload.wikimedia.org/wikipedia/en/thum...</td>\n",
       "      <td>https://en.wikipedia.org/wiki/Housefull_2</td>\n",
       "      <td>Housefull 2</td>\n",
       "      <td>Housefull 2</td>\n",
       "      <td>0</td>\n",
       "      <td>2012</td>\n",
       "      <td>145</td>\n",
       "      <td>Action|Comedy|Musical</td>\n",
       "      <td>5.2</td>\n",
       "      <td>12146</td>\n",
       "      <td>Housefull 2 is about the Kapoor family. Daboo ...</td>\n",
       "      <td>A comedy of errors wherein four men help each ...</td>\n",
       "      <td>The Dirty Dozen</td>\n",
       "      <td>Akshay Kumar|John Abraham|Asin|Jacqueline Fern...</td>\n",
       "      <td>10 wins &amp; 6 nominations</td>\n",
       "      <td>5 April 2012 (India)</td>\n",
       "      <td>Akshay Kumar</td>\n",
       "    </tr>\n",
       "    <tr>\n",
       "      <th>1425</th>\n",
       "      <td>The Bypass</td>\n",
       "      <td>tt0397941</td>\n",
       "      <td>https://upload.wikimedia.org/wikipedia/commons...</td>\n",
       "      <td>https://en.wikipedia.org/wiki/The_Bypass</td>\n",
       "      <td>The Bypass</td>\n",
       "      <td>The Bypass</td>\n",
       "      <td>0</td>\n",
       "      <td>2003</td>\n",
       "      <td>17</td>\n",
       "      <td>Crime|Short</td>\n",
       "      <td>7.6</td>\n",
       "      <td>810</td>\n",
       "      <td>A bypass somewhere in Rajasthan  two violent m...</td>\n",
       "      <td>A bypass somewhere in Rajasthan  two violent m...</td>\n",
       "      <td>Caution: Men at Work</td>\n",
       "      <td>Nawazuddin Siddiqui|Sundar Dan Detha|Irrfan Kh...</td>\n",
       "      <td>1 win &amp; 1 nomination</td>\n",
       "      <td>August 2003 (UK)</td>\n",
       "      <td>Nawazuddin Siddiqui</td>\n",
       "    </tr>\n",
       "    <tr>\n",
       "      <th>1490</th>\n",
       "      <td>Devdas (2002 Hindi film)</td>\n",
       "      <td>tt0238936</td>\n",
       "      <td>https://upload.wikimedia.org/wikipedia/en/thum...</td>\n",
       "      <td>https://en.wikipedia.org/wiki/Devdas_(2002_Hin...</td>\n",
       "      <td>Devdas</td>\n",
       "      <td>Devdas</td>\n",
       "      <td>0</td>\n",
       "      <td>2002</td>\n",
       "      <td>185</td>\n",
       "      <td>Drama|Musical|Romance</td>\n",
       "      <td>7.6</td>\n",
       "      <td>35705</td>\n",
       "      <td>Devdas Mukherji is black-listed by his multi-m...</td>\n",
       "      <td>After his wealthy family prohibits him from ma...</td>\n",
       "      <td>A grand saga of timeless love</td>\n",
       "      <td>Shah Rukh Khan|Aishwarya Rai Bachchan|Madhuri ...</td>\n",
       "      <td>Nominated for 1 BAFTA Film Award</td>\n",
       "      <td>12 July 2002 (India)</td>\n",
       "      <td>Shah Rukh Khan</td>\n",
       "    </tr>\n",
       "  </tbody>\n",
       "</table>\n",
       "</div>"
      ],
      "text/plain": [
       "                       title_x    imdb_id  \\\n",
       "733                Housefull 2  tt1980986   \n",
       "1425                The Bypass  tt0397941   \n",
       "1490  Devdas (2002 Hindi film)  tt0238936   \n",
       "\n",
       "                                            poster_path  \\\n",
       "733   https://upload.wikimedia.org/wikipedia/en/thum...   \n",
       "1425  https://upload.wikimedia.org/wikipedia/commons...   \n",
       "1490  https://upload.wikimedia.org/wikipedia/en/thum...   \n",
       "\n",
       "                                              wiki_link      title_y  \\\n",
       "733           https://en.wikipedia.org/wiki/Housefull_2  Housefull 2   \n",
       "1425           https://en.wikipedia.org/wiki/The_Bypass   The Bypass   \n",
       "1490  https://en.wikipedia.org/wiki/Devdas_(2002_Hin...       Devdas   \n",
       "\n",
       "     original_title  is_adult  year_of_release runtime                 genres  \\\n",
       "733     Housefull 2         0             2012     145  Action|Comedy|Musical   \n",
       "1425     The Bypass         0             2003      17            Crime|Short   \n",
       "1490         Devdas         0             2002     185  Drama|Musical|Romance   \n",
       "\n",
       "      imdb_rating  imdb_votes  \\\n",
       "733           5.2       12146   \n",
       "1425          7.6         810   \n",
       "1490          7.6       35705   \n",
       "\n",
       "                                                  story  \\\n",
       "733   Housefull 2 is about the Kapoor family. Daboo ...   \n",
       "1425  A bypass somewhere in Rajasthan  two violent m...   \n",
       "1490  Devdas Mukherji is black-listed by his multi-m...   \n",
       "\n",
       "                                                summary  \\\n",
       "733   A comedy of errors wherein four men help each ...   \n",
       "1425  A bypass somewhere in Rajasthan  two violent m...   \n",
       "1490  After his wealthy family prohibits him from ma...   \n",
       "\n",
       "                            tagline  \\\n",
       "733                 The Dirty Dozen   \n",
       "1425           Caution: Men at Work   \n",
       "1490  A grand saga of timeless love   \n",
       "\n",
       "                                                 actors  \\\n",
       "733   Akshay Kumar|John Abraham|Asin|Jacqueline Fern...   \n",
       "1425  Nawazuddin Siddiqui|Sundar Dan Detha|Irrfan Kh...   \n",
       "1490  Shah Rukh Khan|Aishwarya Rai Bachchan|Madhuri ...   \n",
       "\n",
       "                      wins_nominations          release_date  \\\n",
       "733            10 wins & 6 nominations  5 April 2012 (India)   \n",
       "1425              1 win & 1 nomination      August 2003 (UK)   \n",
       "1490  Nominated for 1 BAFTA Film Award  12 July 2002 (India)   \n",
       "\n",
       "               LeadActors  \n",
       "733          Akshay Kumar  \n",
       "1425  Nawazuddin Siddiqui  \n",
       "1490       Shah Rukh Khan  "
      ]
     },
     "execution_count": 89,
     "metadata": {},
     "output_type": "execute_result"
    }
   ],
   "source": [
    "movies['LeadActors']=movies['actors'].str.split('|').apply(lambda x:x[0])\n",
    "movies.sample(3)"
   ]
  },
  {
   "cell_type": "code",
   "execution_count": null,
   "metadata": {},
   "outputs": [
    {
     "ename": "NameError",
     "evalue": "name 'movies' is not defined",
     "output_type": "error",
     "traceback": [
      "\u001b[1;31m---------------------------------------------------------------------------\u001b[0m",
      "\u001b[1;31mNameError\u001b[0m                                 Traceback (most recent call last)",
      "Cell \u001b[1;32mIn[12], line 1\u001b[0m\n\u001b[1;32m----> 1\u001b[0m \u001b[43mmovies\u001b[49m\n",
      "\u001b[1;31mNameError\u001b[0m: name 'movies' is not defined"
     ]
    }
   ],
   "source": [
    "movies"
   ]
  }
 ],
 "metadata": {
  "kernelspec": {
   "display_name": "Python 3",
   "language": "python",
   "name": "python3"
  },
  "language_info": {
   "codemirror_mode": {
    "name": "ipython",
    "version": 3
   },
   "file_extension": ".py",
   "mimetype": "text/x-python",
   "name": "python",
   "nbconvert_exporter": "python",
   "pygments_lexer": "ipython3",
   "version": "3.12.3"
  }
 },
 "nbformat": 4,
 "nbformat_minor": 2
}
